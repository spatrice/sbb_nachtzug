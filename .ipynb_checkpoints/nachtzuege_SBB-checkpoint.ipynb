{
 "cells": [
  {
   "cell_type": "markdown",
   "metadata": {},
   "source": [
    "# SBB Scraper\n",
    "Wie oft sind die Schlafwagen der Nachtzüge nach Hamburg, Wien, Berlin ausgebucht? Um diese Frage zu beantworten, scraped dieses Script die Angebote der Nachtzüge von der Website der SBB."
   ]
  },
  {
   "cell_type": "code",
   "execution_count": null,
   "metadata": {},
   "outputs": [],
   "source": [
    "#Standard-Import meiner Packages\n",
    "import pandas as pd\n",
    "from selenium import webdriver\n",
    "from selenium.webdriver.common.keys import Keys\n",
    "from selenium.webdriver.support.ui import Select\n",
    "from selenium.webdriver.support.ui import WebDriverWait\n",
    "from selenium.webdriver.support import expected_conditions as EC\n",
    "from selenium.webdriver.common.by import By\n",
    "from selenium.webdriver.common.action_chains import ActionChains\n",
    "import requests\n",
    "from bs4 import BeautifulSoup\n",
    "import PyPDF2\n",
    "import re\n",
    "import matplotlib\n",
    "import matplotlib.pyplot as plt\n",
    "%matplotlib inline\n",
    "from cycler import cycler\n",
    "plt.rcParams.update(\n",
    "    {\"figure.facecolor\": \"#ffffff\",\n",
    "              \"axes.facecolor\": \"#ffffff\",\n",
    "              \"axes.grid\" : True,\n",
    "              \"axes.grid.axis\" : \"y\",\n",
    "              \"grid.color\"    : \"ededed\",\n",
    "              \"grid.linewidth\": 0.8,\n",
    "              \"grid.alpha\": 0.8,\n",
    "              \"axes.spines.left\" : False,\n",
    "              \"axes.spines.right\" : False,\n",
    "              \"axes.spines.top\" : False,\n",
    "              \"axes.spines.bottom\" : False,\n",
    "              \"axes.axisbelow\": False,\n",
    "              \"ytick.major.size\": 0,     \n",
    "              \"ytick.minor.size\": 0,\n",
    "              #\"xtick.direction\" : \"none\",\n",
    "              \"xtick.minor.size\": 0,\n",
    "              \"xtick.major.size\" : 0,\n",
    "              \"xtick.color\"      : \"#191919\",\n",
    "              \"axes.edgecolor\"    :\"#191919\",\n",
    "              \"axes.prop_cycle\" : plt.cycler('color', ['#0c2c84', '#c7e9b4', \n",
    "                                                       '#225ea8','#1d91c0', '#41b6c4', \n",
    "                                                       '#7fcdbb', '#eaea8c']),\n",
    "    'pdf.fonttype': 42,\n",
    "    'ps.fonttype': 42\n",
    "})\n",
    "cycle = plt.rcParams['axes.prop_cycle'].by_key()['color']\n",
    "import re\n",
    "import time\n",
    "import datetime"
   ]
  },
  {
   "cell_type": "code",
   "execution_count": null,
   "metadata": {},
   "outputs": [],
   "source": [
    "### Selenium-Driver öffnen\n",
    "#driver = webdriver.Chrome()\n",
    "###Website öffenn\n",
    "#driver.get('https://www.sbb.ch/de/kaufen/pages/fahrplan/fahrplan.xhtml?suche=true&language=de&vias=%5B%22%22%5D&von=Z%C3%BCrich+HB&nach=Wien+Hbf&viaField1=&datum=18.06.2019&zeit=20%3A00&an=false')"
   ]
  },
  {
   "cell_type": "code",
   "execution_count": null,
   "metadata": {},
   "outputs": [],
   "source": [
    "#Schauen, wie die Verbindung heisst, für das IF-Statement im Loop\n",
    "#ziel = driver.find_elements_by_xpath('//*[@id=\"shopForm_aktuelleVerbindungen_1_verbindung\"]/div[1]/div[1]/h3')[0].text"
   ]
  },
  {
   "cell_type": "code",
   "execution_count": null,
   "metadata": {},
   "outputs": [],
   "source": [
    "##offerieren klicken\n",
    "#button = driver.find_element_by_xpath('//*[@id=\"leistungOfferieren4\"]')\n",
    "#button.click()"
   ]
  },
  {
   "cell_type": "code",
   "execution_count": null,
   "metadata": {},
   "outputs": [],
   "source": [
    "##click black searchfield once\n",
    "#button = driver.find_element_by_xpath('//*[@id=\"buttonNextStep\"]') #identify search field\n",
    "#button.click()"
   ]
  },
  {
   "cell_type": "code",
   "execution_count": null,
   "metadata": {},
   "outputs": [],
   "source": [
    "##wähle das geschlecht\n",
    "#select = Select(driver.find_element_by_xpath('//*[@id=\"ipsSchritt_2_0\"]/div/div/div[2]/div[6]/div/div/div/table/tbody/tr[1]/td[4]/fieldset/select'))\n",
    "#select.select_by_visible_text('Frau')"
   ]
  },
  {
   "cell_type": "code",
   "execution_count": null,
   "metadata": {},
   "outputs": [],
   "source": [
    "#Füge zusätzlichen Passagier hinzu\n",
    "#button = driver.find_element_by_xpath('//*[@id=\"ipsSchritt_2_0\"]/div/div/div[2]/div[6]/div/div/div/ol/li/input')\n",
    "#Srolle, bei kleinen Bildschirmen\n",
    "#driver.execute_script(\"arguments[0].scrollIntoView(true)\", button) #scroll to the search\n",
    "#button.click()\n"
   ]
  },
  {
   "cell_type": "code",
   "execution_count": null,
   "metadata": {},
   "outputs": [],
   "source": [
    "#Wähle Geschlecht\n",
    "#select = Select(driver.find_element_by_xpath('//*[@id=\"ipsSchritt_2_0\"]/div/div/div[2]/div[6]/div/div/div/table/tbody/tr[3]/td[4]/fieldset/select'))\n",
    "#select.select_by_visible_text('Frau')"
   ]
  },
  {
   "cell_type": "code",
   "execution_count": null,
   "metadata": {},
   "outputs": [],
   "source": [
    "#Klicke weiter\n",
    "#button = driver.find_element_by_xpath('//*[@id=\"buttonNextStep\"]') #identify search field\n",
    "##Srolle, bei kleinen Bildschirmen\n",
    "##driver.execute_script(\"arguments[0].scrollIntoView(true)\", button) #scroll to the search\n",
    "#button.click()"
   ]
  },
  {
   "cell_type": "code",
   "execution_count": null,
   "metadata": {},
   "outputs": [],
   "source": [
    "#Falls gar keine Tickets erhältlich, Problem mit der Verbindung. Hinweise abgreifen\n",
    "#hinweis = driver.find_element_by_xpath('//*[@id=\"ipsSchritt_3_0_ident\"]/div/div/div[2]/div[1]/div/div[2]/div/p[1]').text\n"
   ]
  },
  {
   "cell_type": "code",
   "execution_count": null,
   "metadata": {},
   "outputs": [],
   "source": [
    "#Greif die offerierten Angebote ab\n",
    "#angebote = driver.find_element_by_xpath('//*[@id=\"ipsSchritt_3_0_ident\"]/div/div/div[2]/div[6]/div')\n",
    "#angebote = angebote.find_elements_by_tag_name('ol')"
   ]
  },
  {
   "cell_type": "code",
   "execution_count": null,
   "metadata": {},
   "outputs": [],
   "source": [
    "##Bringe die Angebote in eine Datenstruktur\n",
    "#datalist = []\n",
    "#for angebot in angebote[2:]:\n",
    "#    data = {'kategorie':0,\n",
    "#            'normalpreis':0,\n",
    "#            'sparpreis':0\n",
    "#           }\n",
    "#    available = angebot.text.split('\\n')\n",
    "#    if len(available) == 3:\n",
    "#        \n",
    "#        data['kategorie'] = available[0]\n",
    "#        data['normalpreis'] = available[1]\n",
    "#        data['sparpreis'] = available[2]\n",
    "#        datalist.append(data)\n",
    "#    else:\n",
    "#        continue\n",
    "#pd.DataFrame(datalist)"
   ]
  },
  {
   "cell_type": "code",
   "execution_count": null,
   "metadata": {},
   "outputs": [],
   "source": [
    "#kreeire eine liste mit Daten von heute bis X (numdays) Tage in der Zukunft\n",
    "base = datetime.date.today()\n",
    "numdays = 149\n",
    "date_list = [str((base + datetime.timedelta(days=x)).strftime(\"%d.%m.%Y\")) for x in range(0, numdays)]\n",
    "date_list"
   ]
  },
  {
   "cell_type": "markdown",
   "metadata": {},
   "source": [
    "### Der Loop\n",
    "Für jedes Datum sucht das Script die direkte Verbdinung des Nachtzugs. Dazu muss die 'url' entsprechend angepasst werden. Es braucht zuvor eine Recherche, wann der Zug jeweils ungefähr abfährt. Diese Abfahrtszeit kann dann in der Suche erfasst werden.\n",
    "Schwierigkeiten:\n",
    "- Es gibt Tage da variiert die Zeit der Abfahrten oder es gibt gar keine Angebote mehr, das führt zu anderen Ergebnissen als erwartet. Deshalb das Try and Except in der Mittes des Loops.\n",
    "- Beim bevorzugten Ziel, kann es vorkommen, dass der Zielbahnhof minim variiert. Deshalb ist nicht die genaue Bezeichnung des Bahnhofs erfasst.\n",
    "- Es hat verschiedene time.sleep eingebaut. Die Website braucht manchmal eine gewisse Zeit bis sie lädt. Deshalb ausprobieren, was funktioniert.\n"
   ]
  },
  {
   "cell_type": "markdown",
   "metadata": {},
   "source": [
    "###### Hamburg"
   ]
  },
  {
   "cell_type": "code",
   "execution_count": null,
   "metadata": {},
   "outputs": [],
   "source": [
    "#kreeire eine liste mit Daten von heute bis X (numdays) Tage in der Zukunft\n",
    "base = datetime.date.today()\n",
    "numdays = 149\n",
    "date_list = [str((base + datetime.timedelta(days=x)).strftime(\"%d.%m.%Y\")) for x in range(0, numdays)]\n",
    "\n",
    "\n",
    "##Öffne den Selenium-Webdriver\n",
    "#Open Chrome Webdriver for Selenium\n",
    "driver = webdriver.Chrome()\n",
    "\n",
    "#Erstelle Liste für verschiedene Offerieren-Knöpfe (brauchen wir im Loop)\n",
    "offerieren = ['//*[@id=\"leistungOfferieren0\"]',\n",
    "    '//*[@id=\"leistungOfferieren1\"]',\n",
    "    '//*[@id=\"leistungOfferieren2\"]',\n",
    "    '//*[@id=\"leistungOfferieren3\"]',\n",
    "    '//*[@id=\"leistungOfferieren4\"]',\n",
    "    '//*[@id=\"leistungOfferieren5\"]']\n",
    "\n",
    "#Erstelle leere Liste und Dictionary für den Loop\n",
    "datalist = []\n",
    "data = {}\n",
    "\n",
    "#Starte Loop\n",
    "for date in date_list:\n",
    "    #Url für die Suchabfrage auf sbb.ch\n",
    "    url = 'https://www.sbb.ch/de/kaufen/pages/fahrplan/fahrplan.xhtml?suche=true&language=de&vias=%5B%22%22%5D&von=Z%C3%BCrich+HB&nach=Hamburg+Hbf&viaField1=&datum=' + date + '&zeit=20%3A00&an=false'\n",
    "    driver.get(url)\n",
    "    #verschieden Sleeper eingebaut, um sicher zu gehen, dass Seite auch ganz geladen ist. Muss man etwas rumspielen.\n",
    "    time.sleep(2)\n",
    "    #Erfasse alle Ziele, die Gefunden werden. Wir suchen direktzüge mit definierten Endstation.\n",
    "    ziele = driver.find_elements_by_class_name('mod_timetable_row_header')\n",
    "    umsteigen = driver.find_elements_by_class_name('mod_timetable_change_label')\n",
    "    #erstelle ein index = i als Counter, damit man durch die Ziele loopen kann und den Direktzug nach XY findet \n",
    "    i = -1\n",
    "    #loope durch die ziele\n",
    "    for ziel in ziele:\n",
    "        i += 1\n",
    "        #definiert das bevorzugte Ziel\n",
    "        if 'Richtung Hamburg' in ziel.text:\n",
    "            #umsteigen muss gleich 0 sein\n",
    "            if int(umsteigen[i].text) == 0:\n",
    "                    #erfasse Ziel\n",
    "                    destination = ziel.text\n",
    "                    #suche und klicke auf den offerieren button\n",
    "                    button = driver.find_element_by_xpath(offerieren[i]) #identify search field\n",
    "                    button.click()\n",
    "                    time.sleep(4)\n",
    "                    #suche und kliche den 'weiter'-knopf, weil wir keine manipulation auf dieser Seite vornehmen\n",
    "                    button = driver.find_element_by_xpath('//*[@id=\"buttonNextStep\"]') #identify search field\n",
    "                    #bei kleinen screens, scollen vor klicken\n",
    "                    #driver.execute_script(\"arguments[0].scrollIntoView(true)\", button) #scroll to the search\n",
    "                    button.click()\n",
    "                    time.sleep(3)\n",
    "                    #wähle das geschlecht aus und gebe einen wert. wir nehmen frauen, weil es auch damen-wagons gibt.\n",
    "                    select = Select(driver.find_element_by_xpath('//*[@id=\"ipsSchritt_2_0\"]/div/div/div[2]/div[6]/div/div/div/table/tbody/tr[1]/td[4]/fieldset/select'))\n",
    "                    select.select_by_visible_text('Frau')\n",
    "                    #füge einen zweiten reisenden hinzu. wir wollen zu zweit verreisen.\n",
    "                    button = driver.find_element_by_xpath('//*[@id=\"ipsSchritt_2_0\"]/div/div/div[2]/div[6]/div/div/div/ol/li/input') #identify search field\n",
    "                    button.click()\n",
    "                    #füge erneut eine frau hinzu\n",
    "                    select = Select(driver.find_element_by_xpath('//*[@id=\"ipsSchritt_2_0\"]/div/div/div[2]/div[6]/div/div/div/table/tbody/tr[3]/td[4]/fieldset/select'))\n",
    "                    select.select_by_visible_text('Frau')\n",
    "                    #suche und klicke das weiter feld\n",
    "                    button = driver.find_element_by_xpath('//*[@id=\"buttonNextStep\"]') #identify search field\n",
    "                    #scrollen bei kleinen Bildschirmen\n",
    "                    #driver.execute_script(\"arguments[0].scrollIntoView(true)\", button) #scroll to the search\n",
    "                    button.click()\n",
    "                    #Achtung: Es gibt manchmal keine Verbindung, obwohl angezeigt. Züge fallen aus, oder es gibt gar keine Karten. Deswegen Hinweise abgreifen\n",
    "                    try:\n",
    "                        hinweis = driver.find_element_by_xpath('//*[@id=\"ipsSchritt_3_0_ident\"]/div/div/div[2]/div[1]/div/div[2]/div/p[1]').text\n",
    "                        if hinweis!='Alle Angaben, Anschlüsse und Einhaltung des Fahrplans ohne Gewähr. Informieren Sie sich kurz vor Abfahrt über mögliche Fahrplanänderungen.':\n",
    "                            data = {'kategorie':hinweis,\n",
    "                                'normalpreis':hinweis,\n",
    "                                'sparpreis':h\n",
    "                                'date': date,\n",
    "                                'ziel': destination\n",
    "                               }\n",
    "                            datalist.append(data)\n",
    "                        #break\n",
    "                    except:\n",
    "                        continue\n",
    "                    #greife alle angebotenen angebote ab\n",
    "                    angebote_all = driver.find_element_by_xpath('//*[@id=\"ipsSchritt_3_0_ident\"]/div/div/div[2]/div[6]/div')\n",
    "                    angebote = angebote_all.find_elements_by_tag_name('ol') \n",
    "                    for angebot in angebote[2:]:\n",
    "                        data = {'kategorie':0,\n",
    "                                'normalpreis':0,\n",
    "                                'sparpreis':0,\n",
    "                                'date': date,\n",
    "                                'ziel': destination\n",
    "                               }\n",
    "                        available = angebot.text.split('\\n')\n",
    "                        if len(available) == 3:\n",
    "                            data['kategorie'] = available[0]\n",
    "                            data['normalpreis'] = available[1]\n",
    "                            data['sparpreis'] = available[2]\n",
    "                            datalist.append(data)\n",
    "                            #print(datalist)\n",
    "                    break\n",
    "        else:\n",
    "            #Wenn er keine Direktverbindung findet\n",
    "            if i == 4:\n",
    "                data = {'kategorie':'Keine Direktverbindung',\n",
    "                    'normalpreis':'Keine Direktverbindung',\n",
    "                    'sparpreis':'Keine Direktverbindung',\n",
    "                    'date': date,\n",
    "                    'ziel': 'Keine Direktverbindung'\n",
    "                           }\n",
    "                datalist.append(data)\n",
    "            continue\n",
    "#erstelle datensatz                                \n",
    "df_hamburg = pd.DataFrame(datalist)   \n",
    "df_hamburg.head()\n",
    "    "
   ]
  },
  {
   "cell_type": "code",
   "execution_count": null,
   "metadata": {},
   "outputs": [],
   "source": [
    "df_hamburg.to_csv('verbindungen_hamburg.csv',index=False)"
   ]
  },
  {
   "cell_type": "markdown",
   "metadata": {},
   "source": [
    "###### Wien"
   ]
  },
  {
   "cell_type": "code",
   "execution_count": null,
   "metadata": {},
   "outputs": [],
   "source": [
    "# Open Chrome Webdriver for Selenium\n",
    "driver = webdriver.Chrome()\n",
    "offerieren = ['//*[@id=\"leistungOfferieren0\"]',\n",
    "    '//*[@id=\"leistungOfferieren1\"]',\n",
    "    '//*[@id=\"leistungOfferieren2\"]',\n",
    "    '//*[@id=\"leistungOfferieren3\"]',\n",
    "    '//*[@id=\"leistungOfferieren4\"]',\n",
    "    '//*[@id=\"leistungOfferieren5\"]']\n",
    "datalist = []\n",
    "data = {}\n",
    "for date in date_list:\n",
    "    url = 'https://www.sbb.ch/de/kaufen/pages/fahrplan/fahrplan.xhtml?suche=true&language=de&vias=%5B%22%22%5D&von=Z%C3%BCrich+HB&nach=Wien+Hbf&viaField1=&datum=' + date + '&zeit=20%3A00&an=false'\n",
    "    driver.get(url)\n",
    "    time.sleep(2)\n",
    "    ziele = driver.find_elements_by_class_name('mod_timetable_row_header')\n",
    "    umsteigen = driver.find_elements_by_class_name('mod_timetable_change_label')\n",
    "    i = -1\n",
    "    for ziel in ziele:\n",
    "        i += 1\n",
    "        if 'Richtung Wien Hbf' in ziel.text:\n",
    "            if int(umsteigen[i].text) == 0:\n",
    "                    destination = ziel.text\n",
    "                    #click black searchfield once\n",
    "                    button = driver.find_element_by_xpath(offerieren[i]) #identify search field\n",
    "                    button.click()\n",
    "                    time.sleep(4)\n",
    "                    #click black searchfield once\n",
    "                    button = driver.find_element_by_xpath('//*[@id=\"buttonNextStep\"]') #identify search field\n",
    "                    #driver.execute_script(\"arguments[0].scrollIntoView(true)\", button) #scroll to the search\n",
    "                    button.click()\n",
    "                    time.sleep(3)\n",
    "                    #print(date)\n",
    "                    select = Select(driver.find_element_by_xpath('//*[@id=\"ipsSchritt_2_0\"]/div/div/div[2]/div[6]/div/div/div/table/tbody/tr[1]/td[4]/fieldset/select'))\n",
    "                    select.select_by_visible_text('Frau')\n",
    "                    button = driver.find_element_by_xpath('//*[@id=\"ipsSchritt_2_0\"]/div/div/div[2]/div[6]/div/div/div/ol/li/input') #identify search field\n",
    "                    button.click()\n",
    "                    select = Select(driver.find_element_by_xpath('//*[@id=\"ipsSchritt_2_0\"]/div/div/div[2]/div[6]/div/div/div/table/tbody/tr[3]/td[4]/fieldset/select'))\n",
    "                    select.select_by_visible_text('Frau')\n",
    "                    #click black searchfield once\n",
    "                    button = driver.find_element_by_xpath('//*[@id=\"buttonNextStep\"]') #identify search field\n",
    "                    #driver.execute_script(\"arguments[0].scrollIntoView(true)\", button) #scroll to the search\n",
    "                    button.click()\n",
    "                    try:\n",
    "                        hinweis = driver.find_element_by_xpath('//*[@id=\"ipsSchritt_3_0_ident\"]/div/div/div[2]/div[1]/div/div[2]/div/p[1]').text\n",
    "                        #print(hinweis)\n",
    "                        if hinweis!='Alle Angaben, Anschlüsse und Einhaltung des Fahrplans ohne Gewähr. Informieren Sie sich kurz vor Abfahrt über mögliche Fahrplanänderungen.':\n",
    "                            data = {'kategorie':hinweis,\n",
    "                                'normalpreis':hinweis,\n",
    "                                'sparpreis':hinweis,\n",
    "                                'date': date,\n",
    "                                'ziel': destination\n",
    "                               }\n",
    "                            datalist.append(data)\n",
    "                        #break\n",
    "                    except:\n",
    "                        continue\n",
    "                    #time.sleep(7)\n",
    "                    angebote_all = driver.find_element_by_xpath('//*[@id=\"ipsSchritt_3_0_ident\"]/div/div/div[2]/div[6]/div')\n",
    "                    angebote = angebote_all.find_elements_by_tag_name('ol') \n",
    "                    for angebot in angebote[2:]:\n",
    "                        #print('lastloop')\n",
    "                        data = {'kategorie':0,\n",
    "                                'normalpreis':0,\n",
    "                                'sparpreis':0,\n",
    "                                'date': date,\n",
    "                                'ziel': destination\n",
    "                               }\n",
    "                        available = angebot.text.split('\\n')\n",
    "                        if len(available) == 3:\n",
    "                            data['kategorie'] = available[0]\n",
    "                            data['normalpreis'] = available[1]\n",
    "                            data['sparpreis'] = available[2]\n",
    "                            datalist.append(data)\n",
    "                            #print(datalist)\n",
    "                    break\n",
    "        else:\n",
    "            if i == 4:\n",
    "                data = {'kategorie':'Keine Direktverbindung',\n",
    "                    'normalpreis':'Keine Direktverbindung',\n",
    "                    'sparpreis':'Keine Direktverbindung',\n",
    "                    'date': date,\n",
    "                    'ziel': 'Keine Direktverbindung'\n",
    "                           }\n",
    "                datalist.append(data)\n",
    "            continue\n",
    "                \n",
    "df_wien = pd.DataFrame(datalist)   \n",
    "df_wien.head()\n",
    "    "
   ]
  },
  {
   "cell_type": "code",
   "execution_count": null,
   "metadata": {},
   "outputs": [],
   "source": [
    "df_wien.to_csv('verbindungen_wien.csv',index=False)"
   ]
  },
  {
   "cell_type": "markdown",
   "metadata": {},
   "source": [
    "###### Berlin"
   ]
  },
  {
   "cell_type": "code",
   "execution_count": null,
   "metadata": {},
   "outputs": [],
   "source": [
    "# Open Chrome Webdriver for Selenium\n",
    "driver = webdriver.Chrome()\n",
    "offerieren = ['//*[@id=\"leistungOfferieren0\"]',\n",
    "    '//*[@id=\"leistungOfferieren1\"]',\n",
    "    '//*[@id=\"leistungOfferieren2\"]',\n",
    "    '//*[@id=\"leistungOfferieren3\"]',\n",
    "    '//*[@id=\"leistungOfferieren4\"]',\n",
    "    '//*[@id=\"leistungOfferieren5\"]']\n",
    "datalist = []\n",
    "data = {}\n",
    "for date in date_list:\n",
    "    url = 'https://www.sbb.ch/de/kaufen/pages/fahrplan/fahrplan.xhtml?suche=true&language=de&vias=%5B%22%22%5D&von=Z%C3%BCrich+HB&nach=Berlin+Hbf&viaField1=&datum=' + date + '&zeit=20%3A00&an=false'\n",
    "    driver.get(url)\n",
    "    time.sleep(2)\n",
    "    ziele = driver.find_elements_by_class_name('mod_timetable_row_header')\n",
    "    umsteigen = driver.find_elements_by_class_name('mod_timetable_change_label')\n",
    "    i = -1\n",
    "    for ziel in ziele:\n",
    "        i += 1\n",
    "        if 'Richtung Berlin' in ziel.text:\n",
    "            if int(umsteigen[i].text) == 0:\n",
    "                    destination = ziel.text\n",
    "                    #click black searchfield once\n",
    "                    button = driver.find_element_by_xpath(offerieren[i]) #identify search field\n",
    "                    button.click()\n",
    "                    time.sleep(4)\n",
    "                    #click black searchfield once\n",
    "                    button = driver.find_element_by_xpath('//*[@id=\"buttonNextStep\"]') #identify search field\n",
    "                    #driver.execute_script(\"arguments[0].scrollIntoView(true)\", button) #scroll to the search\n",
    "                    button.click()\n",
    "                    time.sleep(3)\n",
    "                    #print(date)\n",
    "                    select = Select(driver.find_element_by_xpath('//*[@id=\"ipsSchritt_2_0\"]/div/div/div[2]/div[6]/div/div/div/table/tbody/tr[1]/td[4]/fieldset/select'))\n",
    "                    select.select_by_visible_text('Frau')\n",
    "                    button = driver.find_element_by_xpath('//*[@id=\"ipsSchritt_2_0\"]/div/div/div[2]/div[6]/div/div/div/ol/li/input') #identify search field\n",
    "                    button.click()\n",
    "                    select = Select(driver.find_element_by_xpath('//*[@id=\"ipsSchritt_2_0\"]/div/div/div[2]/div[6]/div/div/div/table/tbody/tr[3]/td[4]/fieldset/select'))\n",
    "                    select.select_by_visible_text('Frau')\n",
    "                    #click black searchfield once\n",
    "                    button = driver.find_element_by_xpath('//*[@id=\"buttonNextStep\"]') #identify search field\n",
    "                    #driver.execute_script(\"arguments[0].scrollIntoView(true)\", button) #scroll to the search\n",
    "                    button.click()\n",
    "                    try:\n",
    "                        hinweis = driver.find_element_by_xpath('//*[@id=\"ipsSchritt_3_0_ident\"]/div/div/div[2]/div[1]/div/div[2]/div/p[1]').text\n",
    "                        #print(hinweis)\n",
    "                        if hinweis!='Alle Angaben, Anschlüsse und Einhaltung des Fahrplans ohne Gewähr. Informieren Sie sich kurz vor Abfahrt über mögliche Fahrplanänderungen.':\n",
    "                            data = {'kategorie':hinweis,\n",
    "                                'normalpreis':hinweis,\n",
    "                                'sparpreis':hinweis,\n",
    "                                'date': date,\n",
    "                                'ziel': destination\n",
    "                               }\n",
    "                            datalist.append(data)\n",
    "                        #break\n",
    "                    except:\n",
    "                        continue\n",
    "                    #time.sleep(7)\n",
    "                    angebote_all = driver.find_element_by_xpath('//*[@id=\"ipsSchritt_3_0_ident\"]/div/div/div[2]/div[6]/div')\n",
    "                    angebote = angebote_all.find_elements_by_tag_name('ol') \n",
    "                    for angebot in angebote[2:]:\n",
    "                        #print('lastloop')\n",
    "                        data = {'kategorie':0,\n",
    "                                'normalpreis':0,\n",
    "                                'sparpreis':0,\n",
    "                                'date': date,\n",
    "                                'ziel': destination\n",
    "                               }\n",
    "                        available = angebot.text.split('\\n')\n",
    "                        if len(available) == 3:\n",
    "                            data['kategorie'] = available[0]\n",
    "                            data['normalpreis'] = available[1]\n",
    "                            data['sparpreis'] = available[2]\n",
    "                            datalist.append(data)\n",
    "                            #print(datalist)\n",
    "                    break\n",
    "        else:\n",
    "            if i == 4:\n",
    "                data = {'kategorie':'Keine Direktverbindung',\n",
    "                    'normalpreis':'Keine Direktverbindung',\n",
    "                    'sparpreis':'Keine Direktverbindung',\n",
    "                    'date': date,\n",
    "                    'ziel': 'Keine Direktverbindung'\n",
    "                           }\n",
    "                datalist.append(data)\n",
    "            continue\n",
    "                \n",
    "df_berlin = pd.DataFrame(datalist)   \n",
    "df_berlin.head()\n",
    "    "
   ]
  },
  {
   "cell_type": "code",
   "execution_count": null,
   "metadata": {},
   "outputs": [],
   "source": [
    "df_berlin.to_csv('verbindungen_berlin.csv',index=False)"
   ]
  },
  {
   "cell_type": "code",
   "execution_count": null,
   "metadata": {},
   "outputs": [],
   "source": [
    "#sichere verwendete Datumsliste für spätere Analysen und kontrollen.\n",
    "date_list.to_csv('analysierte_daten.csv', index=False)"
   ]
  },
  {
   "cell_type": "markdown",
   "metadata": {},
   "source": [
    "# Start Analyse"
   ]
  },
  {
   "cell_type": "code",
   "execution_count": null,
   "metadata": {},
   "outputs": [],
   "source": [
    "hamburg = pd.read_csv('verbindungen_hamburg.csv')\n",
    "wien = pd.read_csv('verbindungen_wien.csv')\n",
    "berlin = pd.read_csv('verbindungen_berlin.csv')\n",
    "daten = pd.read_csv('analysierte_daten.csv')"
   ]
  },
  {
   "cell_type": "code",
   "execution_count": null,
   "metadata": {},
   "outputs": [],
   "source": [
    "#Hamburg einen Tag früher gescraped\n",
    "hamburg = hamburg[hamburg['date']!='26.03.2019']\n",
    "wien = wien[wien['date']!='01.09.2019']\n",
    "berlin = berlin[berlin['date']!='01.09.2019']"
   ]
  },
  {
   "cell_type": "code",
   "execution_count": null,
   "metadata": {},
   "outputs": [],
   "source": [
    "#gibt es Problemdaten? Durch Scraper nicht erfasst, aber sollten im Loop gewesen sein?\n",
    "def get_problemdaten(verbindungen, datumsliste):\n",
    "    problem = datumsliste[~datumsliste['0'].isin(verbindungen['date'])]\n",
    "    print(problem)\n",
    "    return(problem)"
   ]
  },
  {
   "cell_type": "code",
   "execution_count": null,
   "metadata": {},
   "outputs": [],
   "source": [
    "#finde die problemdaten\n",
    "#1. September, ausgeschlossen, weil Hamburg einen Tag früher gescraped\n",
    "probdate_hamburg = get_problemdaten(hamburg, daten)\n",
    "probdate_wien = get_problemdaten(wien, daten)\n",
    "probdate_berlin = get_problemdaten(berlin, daten)\n",
    "probdate_hamburg = probdate_hamburg['0'].tolist()\n",
    "probdate_wien = probdate_wien['0'].tolist()\n",
    "probdate_berlin = probdate_berlin['0'].tolist()"
   ]
  },
  {
   "cell_type": "code",
   "execution_count": null,
   "metadata": {},
   "outputs": [],
   "source": [
    "#Spalte Zielstadt (Bahnhöfe könnten varrieren)\n",
    "hamburg['zielstadt'] = 'Hamburg'\n",
    "wien['zielstadt'] = 'Wien'\n",
    "berlin['zielstadt'] = 'Berlin'\n",
    "#Mache einen grossen Datensatz\n",
    "df = pd.concat([hamburg,wien,berlin], axis=0)"
   ]
  },
  {
   "cell_type": "code",
   "execution_count": null,
   "metadata": {},
   "outputs": [],
   "source": [
    "#Datensatz etwas herausputzen (Daten, Wochentage, Labels etc.)\n",
    "df['datum'] = pd.to_datetime(df['date'], format= \"%d.%m.%Y\")\n",
    "df['weekday']=df['datum'].dt.dayofweek\n",
    "df['monat'] = df['datum'].dt.month\n",
    "df[df['weekday']==1].sort_values('date',ascending=True)\n",
    "df['normalpreis'] = df['normalpreis'].str.replace(' CHF', '')"
   ]
  },
  {
   "cell_type": "code",
   "execution_count": null,
   "metadata": {},
   "outputs": [],
   "source": [
    "#erstelle Listen für die Kategorien\n",
    "liegewagen = ['2 Personen in 1 6er Damen Abteil', '2 Personen in 1 6er Abteil',\n",
    "             '2 Personen in 1 6er Abteil zur Alleinbenutzung', '2 Personen in 1 4er Damen Abteil',\n",
    "             '2 Personen in 1 4er Abteil']\n",
    "schlafwagen = ['2 Personen in 1 3er Abteil', '2 Personen in 1 Double Economy Abteil',\n",
    "              '2 Personen in 2 Single Abteilen', '2 Personen in 1 3er Deluxe Abteil',\n",
    "              '2 Personen in 1 Double Deluxe Abteil', '2 Personen in 2 Single Deluxe Abteilen']\n",
    "#Es gibt Fälle, wo alles ausgebucht ist und keine Buchungen vorgenommen werden können.\n",
    "spezialfaelle = ['Die Buchung für Ihre Reise kann nicht vorgenommen werden, es wurde kein verkaufbares Angebot gefunden.\\n\\nMögliche Ursachen:', \n",
    "                 'Die gewünschte Platzkategorie ist nicht mehr verfügbar.']\n",
    "keineverbindung = ['Zug vorübergehend gesperrt', 'Keine Direktverbindung']"
   ]
  },
  {
   "cell_type": "code",
   "execution_count": null,
   "metadata": {},
   "outputs": [],
   "source": [
    "#entferne tage ohne verbindung oder ohne direktverbindung\n",
    "df = df[~df['kategorie'].isin(keineverbindung)]"
   ]
  },
  {
   "cell_type": "code",
   "execution_count": null,
   "metadata": {},
   "outputs": [],
   "source": [
    "#Lable die verschiedenen Angebot\n",
    "df['schlafwagen'] = 0\n",
    "df['schlafwagen'][df['kategorie'].str.contains('Sitzwagen')] = 'Sitzwagen'\n",
    "df['schlafwagen'][df['kategorie'].str.contains('Sitzplatz')] = 'Sitzwagen'\n",
    "df['schlafwagen'][df['kategorie'].isin(liegewagen)] = 'Liegewagen'\n",
    "df['schlafwagen'][df['kategorie'].isin(schlafwagen)] = 'Schlafwagen'"
   ]
  },
  {
   "cell_type": "code",
   "execution_count": null,
   "metadata": {},
   "outputs": [],
   "source": [
    "#erstell spalte für Ausgebucht\n",
    "#Wenn keine Buchung vorgenommen werden kann, weil kein angebot == Ausgebucht\n",
    "df['ausgebucht'] = 0\n",
    "df['ausgebucht'] = (df['normalpreis']=='Ausgebucht') | (df['normalpreis'].isin(spezialfaelle))"
   ]
  },
  {
   "cell_type": "markdown",
   "metadata": {},
   "source": [
    "### Funktionen zur Analyse\n",
    "Die Funktionen liefern Anzahl Daten, an denen es noch freie Plätze hat, wie hoch der Anteil der ausgebuchten Angebote ist und ein Histogramm für die Anzahl angebote pro Wochentag. (0 Montag, 6 Sonntag)"
   ]
  },
  {
   "cell_type": "code",
   "execution_count": null,
   "metadata": {},
   "outputs": [],
   "source": [
    "len(set(df[(df['zielstadt']=='Hamburg') & (df['schlafwagen']=='Schlafwagen') & (df['ausgebucht']==True)].date))"
   ]
  },
  {
   "cell_type": "code",
   "execution_count": null,
   "metadata": {},
   "outputs": [],
   "source": [
    "len(set(df[(df['zielstadt']=='Hamburg') & (df['schlafwagen']=='Schlafwagen') & (df['ausgebucht']==False)].date))"
   ]
  },
  {
   "cell_type": "code",
   "execution_count": null,
   "metadata": {},
   "outputs": [],
   "source": [
    "len(set(df[(df['zielstadt']=='Hamburg') & (df['schlafwagen']=='Schlafwagen')].date))"
   ]
  },
  {
   "cell_type": "code",
   "execution_count": null,
   "metadata": {},
   "outputs": [],
   "source": [
    "dayfull = set(df[(df['zielstadt']=='Hamburg') & (df['schlafwagen']=='Schlafwagen') & (df['ausgebucht']==True)].date)\n",
    "dayok = set(df[(df['zielstadt']=='Hamburg') & (df['schlafwagen']=='Schlafwagen') & (df['ausgebucht']==False)].date)\n",
    "matches = dayfull & dayok\n",
    "daycountfull = len(dayfull - matches)\n",
    "fulldaypercent = round(daycountfull/len(set(df.date))*100,2)\n"
   ]
  },
  {
   "cell_type": "code",
   "execution_count": null,
   "metadata": {},
   "outputs": [],
   "source": [
    "dayfull"
   ]
  },
  {
   "cell_type": "code",
   "execution_count": null,
   "metadata": {},
   "outputs": [],
   "source": [
    "def get_trips(ziel, art, monate):\n",
    "    #für spezialfälle, die alle kategorien ausgebucht haben\n",
    "    df['schlafwagen'][df.kategorie.isin(spezialfaelle)] = art\n",
    "    #\n",
    "    trip = df[(df['zielstadt']==ziel) & (df['schlafwagen']==art) & (df['ausgebucht']==False) & (df['monat'].isin(monate))]\n",
    "    free_dates = list(set(trip['date']))\n",
    "    len_trip = len(set(df.date))\n",
    "    tripday_percent = 100-round(len(free_dates)/len_trip*100, 2)\n",
    "    print('An '+str(len(free_dates))+' Tagen hats noch Platz im '+ art + ' nach ' + ziel)\n",
    "    print(str(tripday_percent) + \" Prozent der Tage sind die \" + art + \" ausgebucht\")\n",
    "    trip_analysis = df[df['monat'].isin(monate)].groupby(['schlafwagen','zielstadt']).ausgebucht.value_counts('normalize').unstack().reset_index()\n",
    "    print(str(round(trip_analysis[True][(trip_analysis['zielstadt']==ziel) & (trip_analysis['schlafwagen']==art)].iloc[0]*100, 2)), ' Prozent der Angebote sind ausgebucht')\n",
    "    trip['normalpreis'] = trip['normalpreis'].astype(float)\n",
    "    print('Die Preise für 2 Personen variieren zwischen '+ str(min(trip['normalpreis']))+ ' Franken und '+str(max(trip['normalpreis'])))\n",
    "    #print('Und das sind die Daten :')\n",
    "    #[print(date) for date in free_dates]\n",
    "    ax=df[(df['ausgebucht']==False) & (df['zielstadt']==ziel) & (df['schlafwagen']==art) & (df['monat'].isin(monate))].hist('weekday', bins=7, figsize=(8,8), rwidth=0.4)\n",
    "    print('Grafik zeigt die Anzahl der verfügbaren '+ art+ ' nach ' + ziel + ' pro Wochentag an.')"
   ]
  },
  {
   "cell_type": "code",
   "execution_count": null,
   "metadata": {},
   "outputs": [],
   "source": [
    "get_trips('Hamburg','Schlafwagen', [4,5,6])"
   ]
  },
  {
   "cell_type": "code",
   "execution_count": null,
   "metadata": {},
   "outputs": [],
   "source": [
    "#wie stark sind die Züge an Wochenenden ausgelastet (donnerstag, freitag oder samstag?)\n",
    "#Datensatz für Wochenende erstellen\n",
    "df_weekend = df[df['weekday'].isin([4,5])]\n",
    "df_weekend.groupby(['schlafwagen','zielstadt']).ausgebucht.value_counts('normalize').unstack().reset_index()"
   ]
  },
  {
   "cell_type": "code",
   "execution_count": null,
   "metadata": {},
   "outputs": [],
   "source": [
    "def get_weekendtrips(ziel, art, monate):\n",
    "    #für spezialfälle, die alle kategorien ausgebucht haben\n",
    "    df_weekend['schlafwagen'][df_weekend.kategorie.isin(spezialfaelle)] = art\n",
    "    #\n",
    "    weekend = df_weekend[(df_weekend['zielstadt']==ziel) & (df_weekend['schlafwagen']==art) & (df_weekend['ausgebucht']==False) & (df_weekend['monat'].isin(monate))]\n",
    "    free_dates = list(set(weekend['date']))\n",
    "    len_trip = len(set(df_weekend.date))\n",
    "    tripday_percent = 100-round(len(free_dates)/len_trip*100, 2)\n",
    "    print('An '+str(len(free_dates))+' Fr/Sa hats noch Platz im '+ art + ' nach ' + ziel)\n",
    "    weekend_analysis = df_weekend[df_weekend['monat'].isin(monate)].groupby(['schlafwagen','zielstadt']).ausgebucht.value_counts('normalize').unstack().reset_index()\n",
    "    print(str(round(weekend_analysis[True][(weekend_analysis['zielstadt']==ziel) & (weekend_analysis['schlafwagen']==art)].iloc[0]*100, 2)), ' Prozent der Freitag oder Samstag Angebote sind ausgebucht')\n",
    "    print(str(tripday_percent) + \" Prozent der Tage sind die \" + art + \" ausgebucht\")\n",
    "    weekend['normalpreis'] = weekend['normalpreis'].astype(float)\n",
    "    print('Die Preise für 2 Personen variieren zwischen '+ str(min(weekend['normalpreis']))+ ' Franken und '+str(max(weekend['normalpreis'])))\n",
    "    print('Und das sind die Daten :')\n",
    "    [print(date) for date in free_dates]\n"
   ]
  },
  {
   "cell_type": "code",
   "execution_count": null,
   "metadata": {},
   "outputs": [],
   "source": [
    "get_weekendtrips('Hamburg','Schlafwagen', [4,5,6])"
   ]
  },
  {
   "cell_type": "code",
   "execution_count": null,
   "metadata": {},
   "outputs": [],
   "source": []
  }
 ],
 "metadata": {
  "kernelspec": {
   "display_name": "Python 3",
   "language": "python",
   "name": "python3"
  },
  "language_info": {
   "codemirror_mode": {
    "name": "ipython",
    "version": 3
   },
   "file_extension": ".py",
   "mimetype": "text/x-python",
   "name": "python",
   "nbconvert_exporter": "python",
   "pygments_lexer": "ipython3",
   "version": "3.6.5"
  }
 },
 "nbformat": 4,
 "nbformat_minor": 2
}
